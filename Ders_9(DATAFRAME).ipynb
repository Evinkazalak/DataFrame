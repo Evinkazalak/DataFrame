{
 "cells": [
  {
   "cell_type": "markdown",
   "id": "af9f805b",
   "metadata": {},
   "source": [
    "# DATAFRAME\n",
    "-veri çerçevesi demektir.\n",
    "-serilerin birleştirilmiş halidir\n",
    "-pandas içiinde farklı bir yapıdır"
   ]
  },
  {
   "cell_type": "code",
   "execution_count": 6,
   "id": "755931ec",
   "metadata": {},
   "outputs": [],
   "source": [
    "import pandas as pd\n",
    "import numpy as np"
   ]
  },
  {
   "cell_type": "code",
   "execution_count": 7,
   "id": "ef455eaa",
   "metadata": {},
   "outputs": [],
   "source": [
    "data=np.random.rand(4,3)"
   ]
  },
  {
   "cell_type": "code",
   "execution_count": 8,
   "id": "d6f7f545",
   "metadata": {},
   "outputs": [
    {
     "data": {
      "text/plain": [
       "array([[0.82149967, 0.50397407, 0.98867883],\n",
       "       [0.65662398, 0.04412312, 0.38920673],\n",
       "       [0.46000203, 0.3085508 , 0.2273147 ],\n",
       "       [0.67926822, 0.78367741, 0.53426956]])"
      ]
     },
     "execution_count": 8,
     "metadata": {},
     "output_type": "execute_result"
    }
   ],
   "source": [
    "data"
   ]
  },
  {
   "cell_type": "code",
   "execution_count": 9,
   "id": "f9ce5cd4",
   "metadata": {},
   "outputs": [],
   "source": [
    "dataFrame=pd.DataFrame(data)"
   ]
  },
  {
   "cell_type": "code",
   "execution_count": 10,
   "id": "2030aca6",
   "metadata": {},
   "outputs": [
    {
     "data": {
      "text/html": [
       "<div>\n",
       "<style scoped>\n",
       "    .dataframe tbody tr th:only-of-type {\n",
       "        vertical-align: middle;\n",
       "    }\n",
       "\n",
       "    .dataframe tbody tr th {\n",
       "        vertical-align: top;\n",
       "    }\n",
       "\n",
       "    .dataframe thead th {\n",
       "        text-align: right;\n",
       "    }\n",
       "</style>\n",
       "<table border=\"1\" class=\"dataframe\">\n",
       "  <thead>\n",
       "    <tr style=\"text-align: right;\">\n",
       "      <th></th>\n",
       "      <th>0</th>\n",
       "      <th>1</th>\n",
       "      <th>2</th>\n",
       "    </tr>\n",
       "  </thead>\n",
       "  <tbody>\n",
       "    <tr>\n",
       "      <th>0</th>\n",
       "      <td>0.821500</td>\n",
       "      <td>0.503974</td>\n",
       "      <td>0.988679</td>\n",
       "    </tr>\n",
       "    <tr>\n",
       "      <th>1</th>\n",
       "      <td>0.656624</td>\n",
       "      <td>0.044123</td>\n",
       "      <td>0.389207</td>\n",
       "    </tr>\n",
       "    <tr>\n",
       "      <th>2</th>\n",
       "      <td>0.460002</td>\n",
       "      <td>0.308551</td>\n",
       "      <td>0.227315</td>\n",
       "    </tr>\n",
       "    <tr>\n",
       "      <th>3</th>\n",
       "      <td>0.679268</td>\n",
       "      <td>0.783677</td>\n",
       "      <td>0.534270</td>\n",
       "    </tr>\n",
       "  </tbody>\n",
       "</table>\n",
       "</div>"
      ],
      "text/plain": [
       "          0         1         2\n",
       "0  0.821500  0.503974  0.988679\n",
       "1  0.656624  0.044123  0.389207\n",
       "2  0.460002  0.308551  0.227315\n",
       "3  0.679268  0.783677  0.534270"
      ]
     },
     "execution_count": 10,
     "metadata": {},
     "output_type": "execute_result"
    }
   ],
   "source": [
    "dataFrame"
   ]
  },
  {
   "cell_type": "code",
   "execution_count": 11,
   "id": "3b1f04bc",
   "metadata": {},
   "outputs": [],
   "source": [
    "evın=np.random.rand(5,6)"
   ]
  },
  {
   "cell_type": "code",
   "execution_count": 12,
   "id": "5b41c174",
   "metadata": {},
   "outputs": [
    {
     "data": {
      "text/plain": [
       "array([[0.26516686, 0.16560507, 0.39691054, 0.18972884, 0.50169804,\n",
       "        0.22759335],\n",
       "       [0.09829409, 0.31356063, 0.38615814, 0.06351151, 0.41969708,\n",
       "        0.02787844],\n",
       "       [0.62597071, 0.60923913, 0.15106629, 0.49219908, 0.54842261,\n",
       "        0.77953448],\n",
       "       [0.03891914, 0.32958461, 0.69378869, 0.49292639, 0.91968581,\n",
       "        0.59540997],\n",
       "       [0.44639645, 0.63718329, 0.20237373, 0.56826799, 0.60470422,\n",
       "        0.6027965 ]])"
      ]
     },
     "execution_count": 12,
     "metadata": {},
     "output_type": "execute_result"
    }
   ],
   "source": [
    "evın"
   ]
  },
  {
   "cell_type": "code",
   "execution_count": 13,
   "id": "189dcde4",
   "metadata": {},
   "outputs": [],
   "source": [
    "dataFramem=pd.DataFrame(evın)"
   ]
  },
  {
   "cell_type": "code",
   "execution_count": 14,
   "id": "7c4538fc",
   "metadata": {},
   "outputs": [
    {
     "data": {
      "text/html": [
       "<div>\n",
       "<style scoped>\n",
       "    .dataframe tbody tr th:only-of-type {\n",
       "        vertical-align: middle;\n",
       "    }\n",
       "\n",
       "    .dataframe tbody tr th {\n",
       "        vertical-align: top;\n",
       "    }\n",
       "\n",
       "    .dataframe thead th {\n",
       "        text-align: right;\n",
       "    }\n",
       "</style>\n",
       "<table border=\"1\" class=\"dataframe\">\n",
       "  <thead>\n",
       "    <tr style=\"text-align: right;\">\n",
       "      <th></th>\n",
       "      <th>0</th>\n",
       "      <th>1</th>\n",
       "      <th>2</th>\n",
       "      <th>3</th>\n",
       "      <th>4</th>\n",
       "      <th>5</th>\n",
       "    </tr>\n",
       "  </thead>\n",
       "  <tbody>\n",
       "    <tr>\n",
       "      <th>0</th>\n",
       "      <td>0.265167</td>\n",
       "      <td>0.165605</td>\n",
       "      <td>0.396911</td>\n",
       "      <td>0.189729</td>\n",
       "      <td>0.501698</td>\n",
       "      <td>0.227593</td>\n",
       "    </tr>\n",
       "    <tr>\n",
       "      <th>1</th>\n",
       "      <td>0.098294</td>\n",
       "      <td>0.313561</td>\n",
       "      <td>0.386158</td>\n",
       "      <td>0.063512</td>\n",
       "      <td>0.419697</td>\n",
       "      <td>0.027878</td>\n",
       "    </tr>\n",
       "    <tr>\n",
       "      <th>2</th>\n",
       "      <td>0.625971</td>\n",
       "      <td>0.609239</td>\n",
       "      <td>0.151066</td>\n",
       "      <td>0.492199</td>\n",
       "      <td>0.548423</td>\n",
       "      <td>0.779534</td>\n",
       "    </tr>\n",
       "    <tr>\n",
       "      <th>3</th>\n",
       "      <td>0.038919</td>\n",
       "      <td>0.329585</td>\n",
       "      <td>0.693789</td>\n",
       "      <td>0.492926</td>\n",
       "      <td>0.919686</td>\n",
       "      <td>0.595410</td>\n",
       "    </tr>\n",
       "    <tr>\n",
       "      <th>4</th>\n",
       "      <td>0.446396</td>\n",
       "      <td>0.637183</td>\n",
       "      <td>0.202374</td>\n",
       "      <td>0.568268</td>\n",
       "      <td>0.604704</td>\n",
       "      <td>0.602797</td>\n",
       "    </tr>\n",
       "  </tbody>\n",
       "</table>\n",
       "</div>"
      ],
      "text/plain": [
       "          0         1         2         3         4         5\n",
       "0  0.265167  0.165605  0.396911  0.189729  0.501698  0.227593\n",
       "1  0.098294  0.313561  0.386158  0.063512  0.419697  0.027878\n",
       "2  0.625971  0.609239  0.151066  0.492199  0.548423  0.779534\n",
       "3  0.038919  0.329585  0.693789  0.492926  0.919686  0.595410\n",
       "4  0.446396  0.637183  0.202374  0.568268  0.604704  0.602797"
      ]
     },
     "execution_count": 14,
     "metadata": {},
     "output_type": "execute_result"
    }
   ],
   "source": [
    "dataFramem"
   ]
  },
  {
   "cell_type": "code",
   "execution_count": 16,
   "id": "d1f8f3f4",
   "metadata": {},
   "outputs": [],
   "source": [
    "YenıDataframe=pd.DataFrame(data,index=[\"evin\",\"erva\",\"asil\",\"ayşe\"],columns=[\"maas\",\"cinsiyet\",\"yas\"])"
   ]
  },
  {
   "cell_type": "code",
   "execution_count": 17,
   "id": "e7f5feba",
   "metadata": {},
   "outputs": [
    {
     "data": {
      "text/html": [
       "<div>\n",
       "<style scoped>\n",
       "    .dataframe tbody tr th:only-of-type {\n",
       "        vertical-align: middle;\n",
       "    }\n",
       "\n",
       "    .dataframe tbody tr th {\n",
       "        vertical-align: top;\n",
       "    }\n",
       "\n",
       "    .dataframe thead th {\n",
       "        text-align: right;\n",
       "    }\n",
       "</style>\n",
       "<table border=\"1\" class=\"dataframe\">\n",
       "  <thead>\n",
       "    <tr style=\"text-align: right;\">\n",
       "      <th></th>\n",
       "      <th>maas</th>\n",
       "      <th>cinsiyet</th>\n",
       "      <th>yas</th>\n",
       "    </tr>\n",
       "  </thead>\n",
       "  <tbody>\n",
       "    <tr>\n",
       "      <th>evin</th>\n",
       "      <td>0.821500</td>\n",
       "      <td>0.503974</td>\n",
       "      <td>0.988679</td>\n",
       "    </tr>\n",
       "    <tr>\n",
       "      <th>erva</th>\n",
       "      <td>0.656624</td>\n",
       "      <td>0.044123</td>\n",
       "      <td>0.389207</td>\n",
       "    </tr>\n",
       "    <tr>\n",
       "      <th>asil</th>\n",
       "      <td>0.460002</td>\n",
       "      <td>0.308551</td>\n",
       "      <td>0.227315</td>\n",
       "    </tr>\n",
       "    <tr>\n",
       "      <th>ayşe</th>\n",
       "      <td>0.679268</td>\n",
       "      <td>0.783677</td>\n",
       "      <td>0.534270</td>\n",
       "    </tr>\n",
       "  </tbody>\n",
       "</table>\n",
       "</div>"
      ],
      "text/plain": [
       "          maas  cinsiyet       yas\n",
       "evin  0.821500  0.503974  0.988679\n",
       "erva  0.656624  0.044123  0.389207\n",
       "asil  0.460002  0.308551  0.227315\n",
       "ayşe  0.679268  0.783677  0.534270"
      ]
     },
     "execution_count": 17,
     "metadata": {},
     "output_type": "execute_result"
    }
   ],
   "source": [
    "YenıDataframe"
   ]
  },
  {
   "cell_type": "code",
   "execution_count": 18,
   "id": "e8c55f8f",
   "metadata": {},
   "outputs": [
    {
     "data": {
      "text/plain": [
       "evin    0.821500\n",
       "erva    0.656624\n",
       "asil    0.460002\n",
       "ayşe    0.679268\n",
       "Name: maas, dtype: float64"
      ]
     },
     "execution_count": 18,
     "metadata": {},
     "output_type": "execute_result"
    }
   ],
   "source": [
    "YenıDataframe[\"maas\"]"
   ]
  },
  {
   "cell_type": "code",
   "execution_count": 19,
   "id": "58f69818",
   "metadata": {},
   "outputs": [
    {
     "data": {
      "text/html": [
       "<div>\n",
       "<style scoped>\n",
       "    .dataframe tbody tr th:only-of-type {\n",
       "        vertical-align: middle;\n",
       "    }\n",
       "\n",
       "    .dataframe tbody tr th {\n",
       "        vertical-align: top;\n",
       "    }\n",
       "\n",
       "    .dataframe thead th {\n",
       "        text-align: right;\n",
       "    }\n",
       "</style>\n",
       "<table border=\"1\" class=\"dataframe\">\n",
       "  <thead>\n",
       "    <tr style=\"text-align: right;\">\n",
       "      <th></th>\n",
       "      <th>maas</th>\n",
       "      <th>yas</th>\n",
       "    </tr>\n",
       "  </thead>\n",
       "  <tbody>\n",
       "    <tr>\n",
       "      <th>evin</th>\n",
       "      <td>0.821500</td>\n",
       "      <td>0.988679</td>\n",
       "    </tr>\n",
       "    <tr>\n",
       "      <th>erva</th>\n",
       "      <td>0.656624</td>\n",
       "      <td>0.389207</td>\n",
       "    </tr>\n",
       "    <tr>\n",
       "      <th>asil</th>\n",
       "      <td>0.460002</td>\n",
       "      <td>0.227315</td>\n",
       "    </tr>\n",
       "    <tr>\n",
       "      <th>ayşe</th>\n",
       "      <td>0.679268</td>\n",
       "      <td>0.534270</td>\n",
       "    </tr>\n",
       "  </tbody>\n",
       "</table>\n",
       "</div>"
      ],
      "text/plain": [
       "          maas       yas\n",
       "evin  0.821500  0.988679\n",
       "erva  0.656624  0.389207\n",
       "asil  0.460002  0.227315\n",
       "ayşe  0.679268  0.534270"
      ]
     },
     "execution_count": 19,
     "metadata": {},
     "output_type": "execute_result"
    }
   ],
   "source": [
    "YenıDataframe[[\"maas\",\"yas\"]]"
   ]
  },
  {
   "cell_type": "code",
   "execution_count": 20,
   "id": "91de2bc2",
   "metadata": {},
   "outputs": [
    {
     "data": {
      "text/plain": [
       "maas        0.821500\n",
       "cinsiyet    0.503974\n",
       "yas         0.988679\n",
       "Name: evin, dtype: float64"
      ]
     },
     "execution_count": 20,
     "metadata": {},
     "output_type": "execute_result"
    }
   ],
   "source": [
    "# eğer belli bir satırı seçmek istersem LOC kelimesini kullan\n",
    "YenıDataframe.loc[\"evin\"]"
   ]
  },
  {
   "cell_type": "code",
   "execution_count": 22,
   "id": "0fe146e5",
   "metadata": {},
   "outputs": [],
   "source": [
    "# çıkarma işlemi yapabilmek  içinde drop kelimesini kullan kolonu silmek için axixi 1 ver"
   ]
  },
  {
   "cell_type": "code",
   "execution_count": 23,
   "id": "28429ae9",
   "metadata": {},
   "outputs": [
    {
     "data": {
      "text/html": [
       "<div>\n",
       "<style scoped>\n",
       "    .dataframe tbody tr th:only-of-type {\n",
       "        vertical-align: middle;\n",
       "    }\n",
       "\n",
       "    .dataframe tbody tr th {\n",
       "        vertical-align: top;\n",
       "    }\n",
       "\n",
       "    .dataframe thead th {\n",
       "        text-align: right;\n",
       "    }\n",
       "</style>\n",
       "<table border=\"1\" class=\"dataframe\">\n",
       "  <thead>\n",
       "    <tr style=\"text-align: right;\">\n",
       "      <th></th>\n",
       "      <th>maas</th>\n",
       "      <th>cinsiyet</th>\n",
       "    </tr>\n",
       "  </thead>\n",
       "  <tbody>\n",
       "    <tr>\n",
       "      <th>evin</th>\n",
       "      <td>0.821500</td>\n",
       "      <td>0.503974</td>\n",
       "    </tr>\n",
       "    <tr>\n",
       "      <th>erva</th>\n",
       "      <td>0.656624</td>\n",
       "      <td>0.044123</td>\n",
       "    </tr>\n",
       "    <tr>\n",
       "      <th>asil</th>\n",
       "      <td>0.460002</td>\n",
       "      <td>0.308551</td>\n",
       "    </tr>\n",
       "    <tr>\n",
       "      <th>ayşe</th>\n",
       "      <td>0.679268</td>\n",
       "      <td>0.783677</td>\n",
       "    </tr>\n",
       "  </tbody>\n",
       "</table>\n",
       "</div>"
      ],
      "text/plain": [
       "          maas  cinsiyet\n",
       "evin  0.821500  0.503974\n",
       "erva  0.656624  0.044123\n",
       "asil  0.460002  0.308551\n",
       "ayşe  0.679268  0.783677"
      ]
     },
     "execution_count": 23,
     "metadata": {},
     "output_type": "execute_result"
    }
   ],
   "source": [
    "YenıDataframe.drop(\"yas\",axis=1)"
   ]
  },
  {
   "cell_type": "code",
   "execution_count": 24,
   "id": "e5ce3567",
   "metadata": {},
   "outputs": [
    {
     "data": {
      "text/html": [
       "<div>\n",
       "<style scoped>\n",
       "    .dataframe tbody tr th:only-of-type {\n",
       "        vertical-align: middle;\n",
       "    }\n",
       "\n",
       "    .dataframe tbody tr th {\n",
       "        vertical-align: top;\n",
       "    }\n",
       "\n",
       "    .dataframe thead th {\n",
       "        text-align: right;\n",
       "    }\n",
       "</style>\n",
       "<table border=\"1\" class=\"dataframe\">\n",
       "  <thead>\n",
       "    <tr style=\"text-align: right;\">\n",
       "      <th></th>\n",
       "      <th>maas</th>\n",
       "      <th>cinsiyet</th>\n",
       "      <th>yas</th>\n",
       "    </tr>\n",
       "  </thead>\n",
       "  <tbody>\n",
       "    <tr>\n",
       "      <th>evin</th>\n",
       "      <td>False</td>\n",
       "      <td>False</td>\n",
       "      <td>False</td>\n",
       "    </tr>\n",
       "    <tr>\n",
       "      <th>erva</th>\n",
       "      <td>False</td>\n",
       "      <td>False</td>\n",
       "      <td>False</td>\n",
       "    </tr>\n",
       "    <tr>\n",
       "      <th>asil</th>\n",
       "      <td>False</td>\n",
       "      <td>False</td>\n",
       "      <td>False</td>\n",
       "    </tr>\n",
       "    <tr>\n",
       "      <th>ayşe</th>\n",
       "      <td>False</td>\n",
       "      <td>False</td>\n",
       "      <td>False</td>\n",
       "    </tr>\n",
       "  </tbody>\n",
       "</table>\n",
       "</div>"
      ],
      "text/plain": [
       "       maas  cinsiyet    yas\n",
       "evin  False     False  False\n",
       "erva  False     False  False\n",
       "asil  False     False  False\n",
       "ayşe  False     False  False"
      ]
     },
     "execution_count": 24,
     "metadata": {},
     "output_type": "execute_result"
    }
   ],
   "source": [
    "YenıDataframe<0"
   ]
  },
  {
   "cell_type": "code",
   "execution_count": 25,
   "id": "d6a7633c",
   "metadata": {},
   "outputs": [
    {
     "data": {
      "text/html": [
       "<div>\n",
       "<style scoped>\n",
       "    .dataframe tbody tr th:only-of-type {\n",
       "        vertical-align: middle;\n",
       "    }\n",
       "\n",
       "    .dataframe tbody tr th {\n",
       "        vertical-align: top;\n",
       "    }\n",
       "\n",
       "    .dataframe thead th {\n",
       "        text-align: right;\n",
       "    }\n",
       "</style>\n",
       "<table border=\"1\" class=\"dataframe\">\n",
       "  <thead>\n",
       "    <tr style=\"text-align: right;\">\n",
       "      <th></th>\n",
       "      <th>maas</th>\n",
       "      <th>cinsiyet</th>\n",
       "      <th>yas</th>\n",
       "    </tr>\n",
       "  </thead>\n",
       "  <tbody>\n",
       "    <tr>\n",
       "      <th>evin</th>\n",
       "      <td>True</td>\n",
       "      <td>True</td>\n",
       "      <td>True</td>\n",
       "    </tr>\n",
       "    <tr>\n",
       "      <th>erva</th>\n",
       "      <td>True</td>\n",
       "      <td>True</td>\n",
       "      <td>True</td>\n",
       "    </tr>\n",
       "    <tr>\n",
       "      <th>asil</th>\n",
       "      <td>True</td>\n",
       "      <td>True</td>\n",
       "      <td>True</td>\n",
       "    </tr>\n",
       "    <tr>\n",
       "      <th>ayşe</th>\n",
       "      <td>True</td>\n",
       "      <td>True</td>\n",
       "      <td>True</td>\n",
       "    </tr>\n",
       "  </tbody>\n",
       "</table>\n",
       "</div>"
      ],
      "text/plain": [
       "      maas  cinsiyet   yas\n",
       "evin  True      True  True\n",
       "erva  True      True  True\n",
       "asil  True      True  True\n",
       "ayşe  True      True  True"
      ]
     },
     "execution_count": 25,
     "metadata": {},
     "output_type": "execute_result"
    }
   ],
   "source": [
    "YenıDataframe>0"
   ]
  },
  {
   "cell_type": "code",
   "execution_count": 26,
   "id": "d46b57c3",
   "metadata": {},
   "outputs": [
    {
     "ename": "TypeError",
     "evalue": "'>' not supported between instances of 'list' and 'int'",
     "output_type": "error",
     "traceback": [
      "\u001b[1;31m---------------------------------------------------------------------------\u001b[0m",
      "\u001b[1;31mTypeError\u001b[0m                                 Traceback (most recent call last)",
      "\u001b[1;32m~\\AppData\\Local\\Temp/ipykernel_12964/2911617251.py\u001b[0m in \u001b[0;36m<module>\u001b[1;34m\u001b[0m\n\u001b[1;32m----> 1\u001b[1;33m \u001b[0mYenıDataframe\u001b[0m\u001b[1;33m[\u001b[0m\u001b[1;33m[\u001b[0m\u001b[1;34m\"yas\"\u001b[0m\u001b[1;33m]\u001b[0m\u001b[1;33m>\u001b[0m\u001b[1;36m0\u001b[0m\u001b[1;33m]\u001b[0m\u001b[1;33m\u001b[0m\u001b[1;33m\u001b[0m\u001b[0m\n\u001b[0m",
      "\u001b[1;31mTypeError\u001b[0m: '>' not supported between instances of 'list' and 'int'"
     ]
    }
   ],
   "source": [
    "YenıDataframe[[\"yas\"]>0]"
   ]
  },
  {
   "cell_type": "code",
   "execution_count": 32,
   "id": "00b010de",
   "metadata": {},
   "outputs": [],
   "source": [
    "#örneğin ben indekslerin sadece ilk 3 harfini almak istiyorum. bunun için kullanacağım  değişken set index değişkeni oluyor.\n",
    "YenıIndeksLıstesı=[\"ahm\",\"meh\",\"ayş\",\"fat\"]"
   ]
  },
  {
   "cell_type": "code",
   "execution_count": 33,
   "id": "d3ea1db5",
   "metadata": {},
   "outputs": [],
   "source": [
    "YenıDataframe[\"yeni indeks\"]=YenıIndeksLıstesı"
   ]
  },
  {
   "cell_type": "code",
   "execution_count": 34,
   "id": "820814b8",
   "metadata": {},
   "outputs": [
    {
     "data": {
      "text/html": [
       "<div>\n",
       "<style scoped>\n",
       "    .dataframe tbody tr th:only-of-type {\n",
       "        vertical-align: middle;\n",
       "    }\n",
       "\n",
       "    .dataframe tbody tr th {\n",
       "        vertical-align: top;\n",
       "    }\n",
       "\n",
       "    .dataframe thead th {\n",
       "        text-align: right;\n",
       "    }\n",
       "</style>\n",
       "<table border=\"1\" class=\"dataframe\">\n",
       "  <thead>\n",
       "    <tr style=\"text-align: right;\">\n",
       "      <th></th>\n",
       "      <th>maas</th>\n",
       "      <th>cinsiyet</th>\n",
       "      <th>yas</th>\n",
       "      <th>yeni indeks</th>\n",
       "    </tr>\n",
       "  </thead>\n",
       "  <tbody>\n",
       "    <tr>\n",
       "      <th>evin</th>\n",
       "      <td>0.821500</td>\n",
       "      <td>0.503974</td>\n",
       "      <td>0.988679</td>\n",
       "      <td>ahm</td>\n",
       "    </tr>\n",
       "    <tr>\n",
       "      <th>erva</th>\n",
       "      <td>0.656624</td>\n",
       "      <td>0.044123</td>\n",
       "      <td>0.389207</td>\n",
       "      <td>meh</td>\n",
       "    </tr>\n",
       "    <tr>\n",
       "      <th>asil</th>\n",
       "      <td>0.460002</td>\n",
       "      <td>0.308551</td>\n",
       "      <td>0.227315</td>\n",
       "      <td>ayş</td>\n",
       "    </tr>\n",
       "    <tr>\n",
       "      <th>ayşe</th>\n",
       "      <td>0.679268</td>\n",
       "      <td>0.783677</td>\n",
       "      <td>0.534270</td>\n",
       "      <td>fat</td>\n",
       "    </tr>\n",
       "  </tbody>\n",
       "</table>\n",
       "</div>"
      ],
      "text/plain": [
       "          maas  cinsiyet       yas yeni indeks\n",
       "evin  0.821500  0.503974  0.988679         ahm\n",
       "erva  0.656624  0.044123  0.389207         meh\n",
       "asil  0.460002  0.308551  0.227315         ayş\n",
       "ayşe  0.679268  0.783677  0.534270         fat"
      ]
     },
     "execution_count": 34,
     "metadata": {},
     "output_type": "execute_result"
    }
   ],
   "source": [
    "YenıDataframe"
   ]
  },
  {
   "cell_type": "code",
   "execution_count": 35,
   "id": "6b07996c",
   "metadata": {},
   "outputs": [
    {
     "data": {
      "text/html": [
       "<div>\n",
       "<style scoped>\n",
       "    .dataframe tbody tr th:only-of-type {\n",
       "        vertical-align: middle;\n",
       "    }\n",
       "\n",
       "    .dataframe tbody tr th {\n",
       "        vertical-align: top;\n",
       "    }\n",
       "\n",
       "    .dataframe thead th {\n",
       "        text-align: right;\n",
       "    }\n",
       "</style>\n",
       "<table border=\"1\" class=\"dataframe\">\n",
       "  <thead>\n",
       "    <tr style=\"text-align: right;\">\n",
       "      <th></th>\n",
       "      <th>maas</th>\n",
       "      <th>cinsiyet</th>\n",
       "      <th>yas</th>\n",
       "    </tr>\n",
       "    <tr>\n",
       "      <th>yeni indeks</th>\n",
       "      <th></th>\n",
       "      <th></th>\n",
       "      <th></th>\n",
       "    </tr>\n",
       "  </thead>\n",
       "  <tbody>\n",
       "    <tr>\n",
       "      <th>ahm</th>\n",
       "      <td>0.821500</td>\n",
       "      <td>0.503974</td>\n",
       "      <td>0.988679</td>\n",
       "    </tr>\n",
       "    <tr>\n",
       "      <th>meh</th>\n",
       "      <td>0.656624</td>\n",
       "      <td>0.044123</td>\n",
       "      <td>0.389207</td>\n",
       "    </tr>\n",
       "    <tr>\n",
       "      <th>ayş</th>\n",
       "      <td>0.460002</td>\n",
       "      <td>0.308551</td>\n",
       "      <td>0.227315</td>\n",
       "    </tr>\n",
       "    <tr>\n",
       "      <th>fat</th>\n",
       "      <td>0.679268</td>\n",
       "      <td>0.783677</td>\n",
       "      <td>0.534270</td>\n",
       "    </tr>\n",
       "  </tbody>\n",
       "</table>\n",
       "</div>"
      ],
      "text/plain": [
       "                 maas  cinsiyet       yas\n",
       "yeni indeks                              \n",
       "ahm          0.821500  0.503974  0.988679\n",
       "meh          0.656624  0.044123  0.389207\n",
       "ayş          0.460002  0.308551  0.227315\n",
       "fat          0.679268  0.783677  0.534270"
      ]
     },
     "execution_count": 35,
     "metadata": {},
     "output_type": "execute_result"
    }
   ],
   "source": [
    "YenıDataframe.set_index(\"yeni indeks\")"
   ]
  },
  {
   "cell_type": "code",
   "execution_count": 36,
   "id": "f641509f",
   "metadata": {},
   "outputs": [],
   "source": [
    "# yaptığımız set işlemlerinin orjinali etkilememesi için inplace değişkenini kullanıyoruz.\n",
    "YenıDataframe.set_index(\"yeni indeks\",inplace=True)\n"
   ]
  },
  {
   "cell_type": "code",
   "execution_count": 37,
   "id": "0087a945",
   "metadata": {},
   "outputs": [
    {
     "data": {
      "text/html": [
       "<div>\n",
       "<style scoped>\n",
       "    .dataframe tbody tr th:only-of-type {\n",
       "        vertical-align: middle;\n",
       "    }\n",
       "\n",
       "    .dataframe tbody tr th {\n",
       "        vertical-align: top;\n",
       "    }\n",
       "\n",
       "    .dataframe thead th {\n",
       "        text-align: right;\n",
       "    }\n",
       "</style>\n",
       "<table border=\"1\" class=\"dataframe\">\n",
       "  <thead>\n",
       "    <tr style=\"text-align: right;\">\n",
       "      <th></th>\n",
       "      <th>maas</th>\n",
       "      <th>cinsiyet</th>\n",
       "      <th>yas</th>\n",
       "    </tr>\n",
       "    <tr>\n",
       "      <th>yeni indeks</th>\n",
       "      <th></th>\n",
       "      <th></th>\n",
       "      <th></th>\n",
       "    </tr>\n",
       "  </thead>\n",
       "  <tbody>\n",
       "    <tr>\n",
       "      <th>ahm</th>\n",
       "      <td>0.821500</td>\n",
       "      <td>0.503974</td>\n",
       "      <td>0.988679</td>\n",
       "    </tr>\n",
       "    <tr>\n",
       "      <th>meh</th>\n",
       "      <td>0.656624</td>\n",
       "      <td>0.044123</td>\n",
       "      <td>0.389207</td>\n",
       "    </tr>\n",
       "    <tr>\n",
       "      <th>ayş</th>\n",
       "      <td>0.460002</td>\n",
       "      <td>0.308551</td>\n",
       "      <td>0.227315</td>\n",
       "    </tr>\n",
       "    <tr>\n",
       "      <th>fat</th>\n",
       "      <td>0.679268</td>\n",
       "      <td>0.783677</td>\n",
       "      <td>0.534270</td>\n",
       "    </tr>\n",
       "  </tbody>\n",
       "</table>\n",
       "</div>"
      ],
      "text/plain": [
       "                 maas  cinsiyet       yas\n",
       "yeni indeks                              \n",
       "ahm          0.821500  0.503974  0.988679\n",
       "meh          0.656624  0.044123  0.389207\n",
       "ayş          0.460002  0.308551  0.227315\n",
       "fat          0.679268  0.783677  0.534270"
      ]
     },
     "execution_count": 37,
     "metadata": {},
     "output_type": "execute_result"
    }
   ],
   "source": [
    "YenıDataframe"
   ]
  },
  {
   "cell_type": "code",
   "execution_count": null,
   "id": "0b6a1fa8",
   "metadata": {},
   "outputs": [],
   "source": []
  },
  {
   "cell_type": "code",
   "execution_count": null,
   "id": "01c6381e",
   "metadata": {},
   "outputs": [],
   "source": []
  }
 ],
 "metadata": {
  "kernelspec": {
   "display_name": "Python 3 (ipykernel)",
   "language": "python",
   "name": "python3"
  },
  "language_info": {
   "codemirror_mode": {
    "name": "ipython",
    "version": 3
   },
   "file_extension": ".py",
   "mimetype": "text/x-python",
   "name": "python",
   "nbconvert_exporter": "python",
   "pygments_lexer": "ipython3",
   "version": "3.9.7"
  }
 },
 "nbformat": 4,
 "nbformat_minor": 5
}
